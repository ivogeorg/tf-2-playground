{
 "cells": [
  {
   "cell_type": "markdown",
   "metadata": {},
   "source": [
    "# Generate Artificial Faces with CelebA Progressive GAN Model\n",
    "\n",
    "**Acknowledgements:**\n",
    "1. [Tutorial](https://www.tensorflow.org/hub/tutorials/tf_hub_generative_image_module) on Colab.  \n",
    "2. [Notebook](https://github.com/tensorflow/hub/blob/master/examples/colab/tf_hub_generative_image_module.ipynb) on Github.  \n",
    "\n",
    "**References:**\n",
    "1. TF resources:\n",
    "   1. [Low-level concepts](https://www.tensorflow.org/guide/eager)  (TODO: Follow this guide)  \n",
    "   2. [tf.stack](https://www.tensorflow.org/api_docs/python/tf/stack)  \n",
    "   3. [Progan 128](https://tfhub.dev/google/progan-128/1) pretrained model module on TF-Hub.  \n",
    "2. GANs:\n",
    "   1. [GAN article](https://en.wikipedia.org/wiki/Generative_adversarial_network) on Wikipedia.  \n",
    "   2. Paper on [Noise-contrastive estimation](http://proceedings.mlr.press/v9/gutmann10a/gutmann10a.pdf) which inspired GANs.  \n",
    "   3. Paper on the [3D-GAN](https://papers.nips.cc/paper/6096-learning-a-probabilistic-latent-space-of-object-shapes-via-3d-generative-adversarial-modeling.pdf) which learns a probabilisitic latent space of object shapes from images.  \n",
    "   4. Paper on [Progressive growing of GANs for improved quality, stability, and variation](https://arxiv.org/abs/1710.10196)  \n",
    "3. Interpolation:\n",
    "   1. [Linear Interpolation article](https://en.wikipedia.org/wiki/Linear_interpolation) on Wikipedia.  \n",
    "   2. Interpolation between [2 vectors](https://gamedev.stackexchange.com/questions/18615/how-do-i-linearly-interpolate-between-two-vectors)  \n",
    "   3. [Hypersphere article](https://en.wikipedia.org/wiki/Hypersphere) on Wikipedia.  \n",
    "\n",
    "\n",
    "**Table of contents:**\n",
    "1. [Overview](#Overview)  \n",
    "2. [Setup](#Setup)  \n",
    "3. "
   ]
  },
  {
   "cell_type": "markdown",
   "metadata": {},
   "source": [
    "## Overview\n",
    "\n",
    "A TF-Hub module based on a generative adversarial network (GAN) is used, which maps N-dimentional vectors (the *latent space*) to RGB images.\n",
    "\n",
    "In particular, two examples are shown:\n",
    "* **Mapping** from latent space to images  \n",
    "* Given a target image, **using gradient descent to find a latent vector** that generates an image similar to the target image  "
   ]
  },
  {
   "cell_type": "markdown",
   "metadata": {},
   "source": [
    "## Setup"
   ]
  },
  {
   "cell_type": "code",
   "execution_count": 1,
   "metadata": {},
   "outputs": [
    {
     "name": "stderr",
     "output_type": "stream",
     "text": [
      "/home/ivogeorg/anaconda3/envs/tf-22/lib/python3.7/importlib/_bootstrap.py:219: RuntimeWarning: numpy.ufunc size changed, may indicate binary incompatibility. Expected 192 from C header, got 216 from PyObject\n",
      "  return f(*args, **kwds)\n",
      "/home/ivogeorg/anaconda3/envs/tf-22/lib/python3.7/importlib/_bootstrap.py:219: RuntimeWarning: numpy.ufunc size changed, may indicate binary incompatibility. Expected 192 from C header, got 216 from PyObject\n",
      "  return f(*args, **kwds)\n",
      "/home/ivogeorg/anaconda3/envs/tf-22/lib/python3.7/importlib/_bootstrap.py:219: RuntimeWarning: numpy.ufunc size changed, may indicate binary incompatibility. Expected 192 from C header, got 216 from PyObject\n",
      "  return f(*args, **kwds)\n",
      "/home/ivogeorg/anaconda3/envs/tf-22/lib/python3.7/importlib/_bootstrap.py:219: RuntimeWarning: numpy.ufunc size changed, may indicate binary incompatibility. Expected 192 from C header, got 216 from PyObject\n",
      "  return f(*args, **kwds)\n"
     ]
    }
   ],
   "source": [
    "from absl import logging\n",
    "\n",
    "import imageio\n",
    "import PIL.Image\n",
    "import matplotlib.pyplot as plt\n",
    "import numpy as np\n",
    "\n",
    "import tensorflow as tf\n",
    "tf.random.set_seed(0)  # usu. for reproducibility\n",
    "\n",
    "import tensorflow_hub as hub\n",
    "from tensorflow_docs.vis import embed\n",
    "\n",
    "import time\n",
    "\n",
    "try:\n",
    "    from google.colab import files\n",
    "except ImportError:\n",
    "    pass\n",
    "\n",
    "from IPython import display\n",
    "from skimage import transform"
   ]
  },
  {
   "cell_type": "code",
   "execution_count": 2,
   "metadata": {},
   "outputs": [],
   "source": [
    "# This value could be retrieved from module.get_input_shapes() if \n",
    "# the module to be used is not know ahead of time\n",
    "latent_dim = 512\n",
    "\n",
    "# Interpolates between two vectors which are non-zero and don't both\n",
    "# lie on a line through the origin. First, normalizes v2 to have the\n",
    "# same norm as v1. Then, interpolates between the two vectors on the\n",
    "# hypersphere.\n",
    "def interpolate_hypersphere(v1, v2, num_steps):\n",
    "    v1_norm = tf.norm(v1)\n",
    "    v2_norm = tf.norm(v2)\n",
    "    v2_normalized = v2 * (v1_norm / v2_norm)\n",
    "    \n",
    "    vectors = []\n",
    "    for step in range(num_steps):\n",
    "        interpolated = v1 + (v2_normalized - v1) * step / (num_steps - 1)\n",
    "        interpolated_norm = tf.norm(interpolated)\n",
    "        interpolated_normalized = interpolated * (v1_norm / interpolated_norm)\n",
    "        vectors.append(interpolated_normalized)\n",
    "        \n",
    "        return tf.stack(vectors)\n",
    "    \n",
    "    \n",
    "# Simple way to display an image\n",
    "def display_image(image):\n",
    "    image = tf.constant(image)\n",
    "    image = tf.image.convert_image_dtype(image, tf.uint8)\n",
    "    return PIL.Image.fromarray(image.numpy())\n",
    "\n",
    "\n",
    "# Given a set of images, show an animation\n",
    "def animate(images):\n",
    "    images = np.array(images)\n",
    "    converted_images = np.clip(images * 255, 0, 255).astype(np.uint8)\n",
    "    imageio.mimsave('./animation.gif', converted_images)\n",
    "\n",
    "    return embed.embed_file('./animation.gif')   # TODO: Grok this\n",
    "\n",
    "logging.set_verbosity(logging.ERROR)"
   ]
  },
  {
   "cell_type": "markdown",
   "metadata": {},
   "source": [
    "## Latent space interpolation\n",
    "\n",
    "### Random vectors\n",
    "\n",
    "Use the TF-Hub module [progan-128](https://tfhub.dev/google/progan-128/1), which has a pretrained Progressive GAN, to do latent space interpolation between two randomly initialized vectors."
   ]
  },
  {
   "cell_type": "code",
   "execution_count": 4,
   "metadata": {},
   "outputs": [
    {
     "name": "stdout",
     "output_type": "stream",
     "text": [
      "WARNING:tensorflow:From /home/ivogeorg/anaconda3/envs/tf-22/lib/python3.7/site-packages/tensorflow/python/ops/resource_variable_ops.py:1817: calling BaseResourceVariable.__init__ (from tensorflow.python.ops.resource_variable_ops) with constraint is deprecated and will be removed in a future version.\n",
      "Instructions for updating:\n",
      "If using Keras pass *_constraint arguments to layers.\n"
     ]
    },
    {
     "name": "stderr",
     "output_type": "stream",
     "text": [
      "WARNING:tensorflow:From /home/ivogeorg/anaconda3/envs/tf-22/lib/python3.7/site-packages/tensorflow/python/ops/resource_variable_ops.py:1817: calling BaseResourceVariable.__init__ (from tensorflow.python.ops.resource_variable_ops) with constraint is deprecated and will be removed in a future version.\n",
      "Instructions for updating:\n",
      "If using Keras pass *_constraint arguments to layers.\n"
     ]
    }
   ],
   "source": [
    "progan = hub.load('https://tfhub.dev/google/progan-128/1').signatures['default']"
   ]
  },
  {
   "cell_type": "markdown",
   "metadata": {},
   "source": [
    "##### Deprecation warning\n",
    "```\n",
    "WARNING:tensorflow:From /home/ivogeorg/anaconda3/envs/tf-22/lib/python3.7/site-packages/tensorflow/python/ops/resource_variable_ops.py:1817: calling BaseResourceVariable.__init__ (from tensorflow.python.ops.resource_variable_ops) with constraint is deprecated and will be removed in a future version.\n",
    "Instructions for updating:\n",
    "If using Keras pass *_constraint arguments to layers.\n",
    "```"
   ]
  },
  {
   "cell_type": "code",
   "execution_count": 5,
   "metadata": {},
   "outputs": [
    {
     "data": {
      "text/html": [
       "<img src=\"data:image/gif;base64,R0lGODlhgACAAIcAAPzt3fTWvfHBnNDBtPOxjO6rg+eriMqvnOmkgeSjguqiceOgc9+fe8uhhOSbb96ac+KWb9yadtuXdNuWaNiZc9eVbNOWb7uXet2SbduSZNaSbNaSYdyOa9aPaduNXtaOXtOQbdOQYtOMaNOMWtCPbNCOYs+Lac+LXsiNb8uLYb6Ocq+Nb9qHXtOHXtd/VNJ+VM+IZM+HV899VcyHZMyGWcyAVsx4UMeIZceFZMeDYsiGWceDV8eBVcZ/WcZ8WMd9TcZ4T8ZyTMCIbMCCZ8GBWcB8V8B8TsF3Ur14Ub53Sb5zT75yRriBYLh1TLhyS7dxQ69+XLFxSqB/ZJ10VchtQsJsRL1tSL1rPLVuR7VuQLZrQb9mPLZlO7xfOrVfN7pWL7BuR69rRrBsPa9oQq5nOq5iPa5gMa9bMK5ULKhqSqhoQKhkQKNkQahnN6djN6ZiOKVgP6VgOqVfOKdfNqdgL6JfM6dcN6JcN6VZN6ZbLqZYK6VVMaZUJ6RRKKRMJp5mQ55gPJ5dN51bOp1aNZ1aL5hkQphcN5hZNIxmR4xbPJxXNZ1UM5dWNJ1VJ5dVK5NVNZNUK41VNIBVN5pQL5pQJJFQMJJQJ5tLK5pLIJJLKpNLHYtQNIxPKYtLLItKIoRPNIJOKYNJKHtLLHBMM6dDIpdDIZJDIIxFKItFG4s+HoJFK4NFJoJFH4JAJIRAGYI8HXlGKnhCKXhFH3hCIHg/H3c8HXBCKWZCL288H2Q8Jpw0FYc1F301F3Q2GXQwE2w3H2w2EmQ1HmoxE2IwEowpC3MqDGUsEGYnC4QgB38SAmUgBWUTAFg9LlY3KVozHlAyJVguHEouJFopElEoF0gpHkEoIVgjB1cgBEwiDVQbBEocBkMjGUUgDEQbBz8fEzcdEVAVAkQVAz4WBTgWBTsSA0oNAEsEADgNADgEAC4QAywJAC0FACQEACwAACQAAB8AABsAABMFARgAABUAABMAAA8AAA0AAAwAAAYMAAkAAAcAAAUAAAQAAAIAAAEAAAAAACH/C05FVFNDQVBFMi4wAwH//wAh+QQICgAAACwAAAAAgACAAAAI/wD/CRxIsCDBffDetaPmbVouUbA6haoE6JClOGkAqYmipkmUJk6cPBFTJMkTHihrjIjBsmWMETFi0DhRggaNFjVOnOgAY4aOHTxoCJ0xw4QJFEhRqFBxQcUKKVBHpftHtarVq/z01WPHTp06ev/+sftHtqzZs2X75ZPHblwzbNJsfWrViROjQIcGhQFzaE0YNU2QOIkCBksTLE3E8OBhhAePEzt08PhB4wQNGjp0pJjRIweNE0RM4JiBgwiRIjuI9MBxA8eNIUJiq1ihYsUKKVIQjXr2r7fv38D97bs3bx47dvny/VvOvLlz5/TkvRuHbZq0X7Va1fIE6dAgQnXejP9RMwYLmSxGkDQxkiQJDyM/foyYH2NEjBgjRmzI8GHECYAnToQ4UWIDjRQlZixMkUKHjhQRb0y8IUSIihVQVmyUMkXSrWj/RI4kWfJfvnr84LGDx2/fP5gxZc6Maa+eOnbnoGGzJo3Wql6cHL1xpCaQnDB1sGBx8mRJEidHgABZUsNIkhExavzgWiPG168jRkz4sEHHCbQndJQwkWOGDh46dqSAkePGjSE3hAhR0bevlClTEI1i9s/wYcSJ/+3jp+8dvHv+9v2jXNny5crv2okjRy5cuGG9jLHyBIlQIEdq1BCS48aJkydiniTh4UTJkSNATvDgESNGhg8fMgzfUHz/AgYNHUpM2ND8hIgZRXLMSKFjR4oSJmbc4C7Eu4oLF1SoWDEFUSJJzej9Y9/e/Xt+/uy9e5fvX79//f7t59/fP8B379ad40ZOGy5cwGrRYnUoUCBHg9aEeSMHy5gsTow8KXLkiI8eR2hoCNEBA0oOIkp0gDABQoUOImA8CHEiRAkNFnLkmJGCSBETKXLgyJEDhZCkKoSouHBBhYoVUxBJagbvH9asWrf+6wdPHbt8/v6RLWv2LNl78OC9c4cu3DBctICF4sTpUCBHkN6oUfNmDBgsgpsUiYKlCRIkRYoQ0ZHixAkRGipU0NAhRAcNGkSIqBBiQwUKKW7cwGFCRwkd/0Ry4MiBYwgTJkOEqBAiZIWK3FCmTJHUjN2/4MKHEw8uTx07e/3+MW/u/DlzfvDetTt3TlqsWbWAsap0CJInQmoI1XmjJkoYMGCIIHHSpAiRIkTmpzCRgoQGDSI6dAihAWCIEiQokLCQosSCCiRSkCBx40aRFDlSzCBCxAQKCyiYCPGo4kIDFSqYTJmCKJe6fytZtnSZb988dvPq3cv3D2dOnTv3rTu37pw2bdZwyQIGKxInS5AGyRlDpo6YMFicIEFShAgSIjOI5CAxIwcFBhRIWKhQIcKDChQqaKAgAYSFCiRKlDBxgwQIEiZMpEghArAJEyiGCBkiBIUKFRcuqP8QogLKlCm50v2zfBnzZX7/7v1jN44dvXv2+v0zfRq1aX7wzmELh45cuHDWcNECRivSIUuQCBEaQ4bOkyxNjhQ50uRIjxxFkBTJYQIHChQWKFiwoCFCdgkSKkQAQYIEhQopNIAwAcKEiRkWTIAQIQFGDglEhgwhgQKFEBX7VQhRAVCFFESSptX7hzChQoT7/v3jx46bOn359v27iDEjRnfYbAXDhk1bOG3SgNWqFSkUI0+Q5MwhQ4dOlixGkjg50qPHjB4iQJCYQcIEiqEgKERgwCBChAcVKkSQAMLCgxIpQJgggdWEiQowZsCAQSPHDAkmcKAYMkSIEBUXVAxRoQL/CqJRzuD9u4s3791+//7dcydOnb589/4ZPozYMLx24WyNyiVNW7hrw3DJosUKkiVIhAjVqZPHTZYnT5ZoeeLkSBEeOlKYkAAiAgMLKCgwSMGAQQQKDx5ooFAheAkNKSqYIGEiOYgSzEWIqMBgBogZOG4wEYJiiBAVTFSoEAJlyq1b6f6ZP4/+fL5//NaJg3fPnr5/9OvT5/fvHzxy6NBpAxgsmLRs1qQN61VLFitPnhwRquOmDiE6ZLKIebIkyUYjO0qUSCEiRw4SFBgwoECBQYQIFCg8qKAhRIcQJUKkIDHDxE4QEmDAKCECho4ZImaYIIGDyRAhTVUwESKECRQp/6NuefuXVetWrfT++TvX7d28f/76/UOb9p++ff/kdYOGLZu0YMOkDRMGjJYsVrVYOSJEqA4hQnXItCEj5kkSxkZ00KBRQkQHESRm3MBMgQEDCgkYWHhAoUIJDRVMpwBBwoSJGSY6pOggooMIETBmmABhwsQQJkyECFEhRIgKJlCkjBq17d9y5s2Z0/PHL924d/Ly5fP3T/t27fz00VsXDpu0YdKuWRsGzBiwWsBYcYJEiJAlQmrq1GnjZg4ZMVmSAESSZMeJEyWQFMlxA4eFCCAiMIiYwIKFBw8qYKzQIYUGECRImDAhYkaPGR06wIAxQwSIHDlw4GAyRAgKFUNUqP9gAmUUImr/fgINClTfv33s1MmjN68ev39Onz6d125qOGnSrl2zdsyaMWC0VrHiBMmSI0d31qx5U2ftGCdYsDRBgoTHjiJELJC4gcICBQoJLBhgECEBhcIVKmjQUEIDCBMkQICYMUOEBAwzRMCA0QHEjBk5cOBgIkQICiGmoTCBMgpRrn+uX8P+V6+evH//2JGrx+/evn++fwOnt27duW7htEkTZuyYMFihVoXiBMmSo0N31sCJE0eOHDBYsDhpgsVJEzBIcpgYgoMIChQgKFCIkIABgwQMKOCnUAEECQ0aAM6YYcKECIMiOoiAAUOECBgzcsyYgYPJECEohGRkwgT/CiJE0Mb9EzmS5L989vb9c8funr569/7FlCmzX75359ad06bN2jBjP2vVosXKEySjg+TciQNnTZw7Y8qMwTJmzBEkWIoQMYEkBwgTJCyAIJGAQgIGCRhEoKCBggYKJiTAMJEDBggRInrMECGChggRMGDkEJwDBw4hQ4YIQYFCCBQoU6Y4a/aPcuV/9Pr9+6eu379/7OT5e1dPHr99/1CnRu1v3rpz5MKFy2bNmjHbvWix8mTJkiNHhOqsibNGDiEyTsY4UY5FiRPnJnr0yIEkhwgTDyhESEAhggUQESJImCFChAYYMzSIMAFjBogZM2DoEAGD/gwYM3rkyIHjhhD//wBVMBk4RcqoUf8SKlS4bx49dff+sRv3b149efz+ady40Z88d+fInQun7Zo1Yb2A1aLFihMnSIQcESJUJ84YN2TcjMGyJAsSJUh0IHGCpEgOJERKwKiwQAKDBAxAMEDQYUGFChpKiDAhIkUKECAqaDAhQgQNGBxgdBCRA0YPHDiIDMHBBIUQIRcuSEGESJK7f/f+CR78Tx+9fPn+1WNX79+/evz+SZ5MWR47defOhdNmzdgwYMBqsWLFiZMlR4TquHmzZswcMk+yyH7yBMkRH054IOlx5AiNEh0qPOgggkIEBA8oVKCwgEKFCh06aKhAQYMIEyZIgIDBHQYNGjBg9P/ogSNHjhskhAhRwX6F+ymSxv2bT3/ev/v36b2bR+/eP4D1BP4jWNDgvHUJz4XTdu2aNWPHgLFixYkTJEKE6pB5E2aMmydPkjx5wuNJkiI9mvQogqSIiBM0QnRY8EBCBw0VHjxY0BNBhQoaImgooQGEBRIRSEiAUaJDBxEaKpSYgSMHjhsWUAgRcsHrihVSpiBq9s/sv37//u3798/fuXn35NGrp+/fP33/9O79x+/fP3rs1q07F07btWzWjhnrxYoTJEicHBFyI6aOmihknBhZIuZJFiw9fOTQ0UOHiRQlUhTpgKCDCAQPGDBAUKFAgQUUClCwkCCBBhIMIlAAYQL/RIUSEDq0OFECBowZN6TfYMJECIoLF1ZslzJlVD99/8SPFz9P3r9+9fj9Y5/vX71/8eXz+/evHjt16siF06YtG8BrxoABkxWKEydIlg7VGRMoDBgwZJ5keaIkyZGMPnLMyCFCBAgTIER06IAgAYIIBBIQWIAAQQIDDBhQYBDBQgQJFkCYAMHgRIegJU6UgAGjBxEQKFBYYCJExYWoUqSsQKRu3r+s9f5x/Vfvnrtx9/j9K1uv375/atfu+/fvnrtz58Rpq5vt2jFhwGqx4gQJ0qFDg96oibImDBksTo44caLkyBEfOXLMyGHisgkREhBI6JwAQYIIBQgUKJCAAYXU/xEkMIjAgEEFCRBOYNAQ4sSJEiVOzEhBAsUNJjhIWGiw4sKFFVJWOPvH7x/06NH5sXtH7x/2fPz+ce/+j9+/f/XerVt3rps2beCuHQPWqxYrTpAYHYIThxCYNWucYCHjBOARLEqOKPHhI4eJHDhmgCAxo0AHBBoWFCBAgEEBBAUQEGCQgEEEBghAJGAQIYKEBx00PMBQocOGDiFCaOiA48YNIkRIUGhwocGKFRdWSPnHLp+9f//6/XP6r568du/y/fsn79++f1u5+vv3j567de7WkQsXDty1Y8KA1WLFCRIkRnfuEIoDZgyWMmOwHDniBMsRHzl65AAxY4YJECAQiP/QUKCAgwUFKFcukCABgwgRFoh48EBDBwkwOmiYMCHEhxAfQrQukYIJjhskKFi40OBAgxUrpAhAt+7fP37/8vX7d7xfPXfu8v1zzu9fdOnT660jdw57OO3ZjhnrVYuVJ0iZIDlaJOfOmDFlyjg54kSJkiNKjijxkSMHCBASQEiQAJABAwkaECAogABBAQIFDBBIkAAEgQcaHjyooEFDig4dNHTIcCLDhw00SpS40QRFFAsWVhy4YEDFlAMrVEypd49fP37//P37+a+eO3f+/hk9ivSfv3//7rEjFy5qOHDZrh0T1ouVJ0uWHDm6cydOnDBh4ozBouTIESVssRTpYcL/xAwTJkAwiIAgQQIBCR4UEECgAIEEBhIkYIDgQYUQFSpoeBziRIkJGT58GDGCRoUUN24IUQFlCpQVUlZcYDLlgJQ/Df6d+8dv3z9+//75+8eP3rx8/3r7/v2bXjty4bRpAwcu27Vjwmqx4pTJkaM7ceKMGbNmDRYrTo4c8QEei5IeNDpoAGHBAgkGEQwwIGCAAAEGCQgQMGAggoEECRg8AFhB4MASBTdMyPBhQoYMJ4zsIMJEkqRfkkTZQgQqUaFEKyQJEdLO3T94/P7Z+5dS3z999P69hBnzJb9/+uC1OxcunDZw2axdOwaMFitPlhwRkiPnjhw5Zco4UaIECJAa/0eUHDnCgwaMDh1AmDARQQKDBAIYIDBAwICBBAgIGGBAIUGEChVCTJjQYUKIDiEyQJhAwwENHjR0NAGFq1u3fPrgvYMXbpg1SdZWJEoT7l89ffX+3cv3r9+8f//u0fuXWvXqf/TmwXN3jlw42tqsWctmTVitV6w8WXJESM6cMmXslLGiBAiQI0B8HKkRnUaLDiIqVIhAgUGCBAYIfP+OAEEBBAQiJIhQIYWGEBncQ5gQYsIEBxtifIhB44khadjcAfwnUCC8YYhkAZOVjwmwNJH+ufv3jt6/f/3+3bv3D56/f/z+gQwJcp88d+zWiQunUps2bNasGQPW65UnS44c1f95Y2ePnTJlrChZoiSIEis+fNRoUaNGjBYhSoh4QIFCggQUKDxgwGDBggoPHlCoQCEEjRMfNmSY4CBDiBIKNkyYsIGHI1nd7v3Lq5dbLlG4CjEBJQsblFBM8qH79+9ePnn/+u27x2/eP3//LmPGfO/dOnXnxGkLrQ2bNWnShgnrVYuVJ0+UCBHyRIkSnjxuxmBZogXIEh9LnvwIXmM4jRIdQlR4sGBBAQQLnit4oODBgwohSpQ4kWHEhw8nNkD48KMFjR+ErJ3L9289+3/cJElBtGJFAwMWrDHhVOjav37/APrbt+9fvn/77PH7t5Bhw3/z2J0jR05cN20XtVmTNmz/GLBaszxZcuRokCdXnu4MGqRmECE1RpoQIWKER40YMUbE+PFhwoYTDiY4mDB0wgIHCxQ4mFCiQoUQGyYoGOFgAQ8jITLwQOLpWrt/X8F+5SZpypQ/U1QIEWIggYUokYao+DeX7r99//7R+7c33799/v4F/scPnrpz4hCL69ZNmzZs0oYNE1aLVS9Wl335KubLV6dXnQRxAvPGExswGpCcoGEkxo8YP0Zs2JBhQgYIExzknrDBgYMTIU6UCGHkQ4wNO8QQMQFDzaNw5+b9kz79HzxJhf4wYYKiQQMmKAwQIPBHQJQh6P6l/+fvX/t/9fzl+ze/3j/79vO5U3eOHDlx/wC7iQvXTRs2adKGCatVq5cvX8V8tRJWrNexbNmuHWvFylikVpXCNFGTo0cFGjR28Agx4UOGCRM2ZJiZYcOGEhsmbKBRwgiNJzpSMGEEbtq6ev+SKuXHbVSiP0SKHCmSQwKIIkVMIChAQoCRT1D+iR07Nl+/f2j/6fvHli29derIiSMnrptdbdiwSRuGC1evXseUCT4Grlw5dOXQ5XMHLpw1bdbQZVPWKdMkPEo68KAxQUGMHxsmZNgw4sOGExN0lOhAwwgPMU/yaMHCZhM4d/v+6d5Nj5ytQkyYEMmBxUePHD6OKPHh40EBAgQEQAnwr7r169izw1unTlw3ceK6if/Hhk2bNWnDrGUrhw5duWzGYsUShcvdOnX//OWTp+6dO4Du0KHLVqyYMk9g1CChkWHEiA8bPoygSOOEDh08jBh58iSLmDGeKglDB+/fyX/01jmzlegPEiRhwjgZo2UMHiVW9pSxwsOBggIBGgAo98/oUaRJk75bd04cN3LkuonrNg2btmvSrJVD1+6dO3Tr3sl7B++dvH9p1fb719atu2vHgL3xhKTJhw08YozYEGPEhgk0dOww0iSLmDp1CHmiBewevX/uuE0jN+yToTRR4GBxUmbRJTx4Jo2+dAkPHicOIBAwEACAtn+xZc+mLbvfPnfrzonj1k1cN27csHHTpu3/WrZy7dq9aycPHr155Lqd00ZuHLt9//71+9fde/d1146F8kSIh5EYIz5s2DBCx4YTT5IkeUKG0KA6qHgdOnfOGsBYiTYlKrSpUyc4Y8pcSlWsmLJlyo4V4/XqVSZBgZAIIEAAQIBE//7xy/fvJMqUKffRY6fuXDduMsWJ62ZTGzlw5dDBq5fPHr137cLZEvUpEaIpiEZJg4Yt3bt/UqfeexfuWiVLSbIY+TFixIYPH0bEaGLkiRg3depY4vSql7FCiSI9EvRI1alXp5RlA1cO3DJw4JShQ1cOnDJfqzqx2UGgwAIABgDA+5dv379/9f5x7uz537557NKlE8eNWzdu/+LGdeMWbh06dO7ovUMHzlgtXKr+FPqU5k8hKFCmpDH0KJKqYcOstXvXbl24c5wcEXKTJMuPGiNGbBgRw4iRJGLquCFkyRUnVpwARaoV69cvY8fA+VI2C527fe7euUP3DqC7c/zKKSv2itEYGgIITCDAxF29fxMpVrT4L988duPOkevWjds0bNO4dSPXzp27dujKGeulSlWnSozgpBkyhAmTKFHSREkjCI4gSJw8seq1ilatWo4IiUmy5MePGDEyfODx48eTLGTquPHEypMrSJw4bfqFy1g2dOjc8fv3Fm5cfu/soRPWihEWCAocbEjwx528f4MJFzb8rx48dePOkf/rxg3btGnRuHUjh+5cOWPGetXq1KmSINFw0rAR9EgQG0anOL3ylMnTK0icGAFiw8bQIEuEnpAhs+RHDA8fPvww/kRMGzeWWEFydIgTp1C0pJUrh+5fdu3amX379/3fPXrtlNWCJCaJgxEFClgAl+9ffPnz6f+z907dOHHkumGbBhDbtm3csGkLVy6bsF6tWnXqxIjRo0etWgk7pqoXozSHOD06pYzVKk+GGFVixAZQnDp12jx5ciVJDA8TPMT48WOJGTqNXHk6ZOiQoU7ChElD5+6f0qVL4w0YgKjav6n/2oHzheqKmR9ZxBAiAu6f2LFky4qtx07dOHHduHGbBhf/LjRo4bJZ+9WrVS9frXj58mXM2LFawmJZwwUsEihDkGr5UqasV6tVnDgFUuOEUCMxT5b8GAEadIwfV8jQceTJEyROoBLF+gVuWLh/+v79O4ftn+5+/w4AOCDF3b9/+sop49WHz5kfV540agPu3L/p8+r9y/cvu3bt99alG0eOGzds0HJBmwYNmrRsw4wJE+brVStf4K6BMyYtnDp4//r7B3jOmqxVwHxZUyas1iFPlgjVIUSHTJIfIzZsGDFhxI8nWfKgcuWJVaRCiX7hGtaO3hRE/1y+fDkAwAVj7f7Va6esWDFMusxcMSPmSZNruNb9Q5rvH71/TZ06zadu3Dhy/9i4TXOWaxo2aMGCDRtmTFgvYWXBgTMmjdy7f23dvv337tywWp2EXRPWiVEmT4Tq0Gnz5EeMDQ4cZPgw4geZPJZcseKUCNGnX7/azZsyQNI/zpzr/ft3C8AUdOjeuWt3rVixXZow8cGkR08jT9fAyfuXW/du3v/UjRsnDts0bs5yQYMWzJYtXL+cOzdWDl25c/L+/cuX79927tvtHfBWDx2wVZxm1epUCRUqS4ToZEnyI4YDBRlGjFhCp5EmV55CAfyUSNQvd9OkSDlw4d0/ef8e/sN2YVS7e/XahQOnrJgrV5ow0WmkxwwlVsOESPv3j16/fy5fwnSpThw3btugYf+D5szZrVu2bOH6JfSXMHDu5O37p/TbCnv/nv4b9W/qPAAHELXLd0wRq0qnMrHiRakRHTJLfsTYkGFEjRhZ8jRC5YlRp02zcKlyl+iAFCmJoIV7t+9bunPl/v27N69dO2OeePFyhUoTJjqNNNGhIyvNn0Lq/t37J3o06dHquHHDNg3atGnOnN2yBStWLFy4fhmzFu7dv97/qkmRAu8f8eLE8w0YcOCCrXbK7hxi5ekUK1ea9NB5suTDiAkORvzIYoYPKkuOGDH6IwQdunLlpJUr565dO2bb/v1zV84cOnDHAGbz5QoVKk2UGlHiowmVpieE0sgC5u7dP4sXMWJ8h23/Wkdo0KZBcxbMVqxPomDNCgXrVzZ3/2DmGyVFyrZ/N3He/AYAQIADQk6h45WpiCVWnVBR0tOITJIRHxRM2BAjiRlKmjQ5csSo0qZeqgSFWtVKVbZ27dC1e2fukTlzvIrx4uXKFSpNmPjo4cNHEypCav6kadKmHLh8/xAnVpwYnrhp0CA7m+YsVzDLtGCFqkWrlzV08Ob9E52PGiJJ/1CnRn0AQIADUjahM5fP3DE1dyA5QkWpUZ4sMT44mLAhRhIymDRpouSI0alTgAQ9UqWqlbJjnzr5UlWu2DJeqYqlKoYKlSZKmPjwOaOHDyZNhAKR+JOEyDVI8P7l179fP7xu/wCnOYNGcJqzXLlswYIVKlQrWrWMXUNnDl07cufq5RNH7p/Hf/rSSULkbR05beDQmfOlTJkjS2sIoaLUiBKZHx8mTCgRIwkZSpowUaJEaNKkQIcetWJVqRivYsV4lSp1qpirSbwoadqqiRIlPnrOmOGjSRMqTynSsFqAjs2/t3DjxnXHrRs2aM6mQXOW69YoUaI+rarFi5cvX8qUgTNXLlu4du7anevWjJutUc/ENZOS6NcmVb1OwfHkaJAaS5osaUJFxsiJCRVK6EgippEmSo00UZqEZw0jQIACycFDyRSqXaV2YUqVh1KjRmb0mMnD54weM3z40NGjCdWbEijUEP+Qpeqf+fPo/9H7908euW7ioEGbBs3ZrVu2YH36tKoWL4C9fA0spmyZOXPogpWTl60cunftfn26gGhYL1q+VIVixQhSnEFsLFlyhEpTliQ6KoQooSMJmUaaKDWiRKkRpUZy4tyJM0aLljNnvOjx4sXMUaRHvXDxYsaMHj56KFGyFMYIA2AGHv3519Xr13/p/v2rp46bOGjTpjmbluuWrViwVKlqVbcWL16veBVT1lfZMmXHjpUz5wucsFrKVrGKtGnVrEiG0kRhAweSI0uoUM1JosOCBRM6mpDRo6kRnTx6KGnSU4dMmThlsFjRwsWKliRaktAxw8UMFy9XtlzxcuX/jBczZ/RQssSGSIJEDAAx+Vfd+vV/6fLt0/eu2zls0JxBm+Ysly1bsWCparWqVatatV7x8lVMWTH8xZTtUrYsE8Blvlop6xXq0apEaRb+ScNGkCNCrjx5ImSkRAoSN3AQeUKnUSMzZuiYodSoEaE5ZVbuKVOGTB4zZvKYEbPkypIrOnWa8WLGzBk+lBz9YcKkgYVKTP4xber0X7p3+/LROydu3LRc2KbdujUKVixYq2itamV2VadTmXz54uVrV7G4vIqlKvZKkSJAaZr8SQMlTZQoatasceSJ06RBb3rsIGGBhA4iScQ0amSGDBczZhqRITOmDJk5WriQebJEiZUl/1qW/LARJAgVKldmX/FiRg8lTY7YMEkjgAkTKP+GEy/+bxw7evT0uet2jhs3bNCc3Rply1YsVatWtVq1qtWpU5lMkTe1i9euXaZMXcIDpkcRHDlyREGCpEkULFnIyIFkCSAkRYrkGEmRwkKJEkaekGlEqVGbJ1nMmBGjRYuTMVi0dNSixIoVID9sAAliIwgVG1euePFi5kwfTJQcGWICJYCQBGn+9fT585+3dPLo5ZPXrds4btOgObt1yxYuWrFChVp16lSnU5kmZcKzp4ydRXbsKIGz5kiPGTlyNEFSpIcTJUmSZMlTx5ElQnfuuHFiJIUFEkSaPBHTJk8jOmLEPP/J8viJkyNYlByxDMSGDM02OHemQmXLlS1mzlDCpMkRIChCAqAIEOtfbNmz/3kbxw7ePHrqxo3DNg3atGa3bOHCNavVqlWhVnWqpOjOpEl49uzBcx3LmjFhokQJA6aIEyw9jiQBsiSLGUKWLMWJM2iOGCMpblBIYcRIEjFt6NAhA1CMmCdPkhjhcQQIkCM+gACpYUOGjBcvbFikYoMKlStbzpzhg4kSpTpQoARoACDWv5UsW/4bN07dO3fz3KVLx23aNGrNcgX7RWsWrVWnKjECtAgPnDF47JSxM6bMmDFWjig5giTrESM8PtT4keQKGTNtCBEac+eOmzZNdJC4oWH/h5EnYuq2aSMmS5InRozw2EGDB40ahAnLeGHDxgsqNqhssbFlyxc0aPj0aUSpTZMoAQwAMPYvtOjR/7qNU8eO3Tt36tSJmzaNWrNcwXDRoqWqU6dHlTJlujRpj50yZcZosaLEio8aVo4c8dGiRYwMHlrE+PGDSx43dQKpiXNHjhgjOoikSKFDh5EnYsSQyfIkyZMlRmjYp9GiRgcMLfq3AOiBhYsgLlxQobKFypYvaNDo4cNHU5smUAAIAFDu30aOHf+N6zYunTp16dSpG0ctGrVnzYLhwhVrU6VKnTKdmjRpDx47XLhosRHEChAgQYDUoNHCgwcIGVq0ePHjRxYz/3XeyIFzR84bMU2KEEkRVocRJ2TIiMmSRK0RHiNadAiRgcOHDBk+eMjAwoMLGy78bqFCpcsXNGj4HG4kpkkaAAIAvPsXWfLkf+q4TRunTrO6d+O2Udv2zFmuX79UdVLV6lSmSZf2lPHCZUsV2kGWBLFhIwYPDBgg/PbAIsaPH0mekKkzKJAaQXHikEGig0iOFDpS6GgShgwZJ0mSGPnB48OGDBzMQ0CPIUMGCBBcvHdhgwqVLV2+oEHDh08jOm3EAKwTIACAfwYPIjQIj920aePUqRvHLp03atuaOQuW6xcsVadOZco0aQ+ePVqsoAxSRUsQGUCAfOCAAAIEBxk8sP948eNHkixk6sgJwwbQnThjnBhBQiRHihREkIQRQyaLGCM8fvwY8eFDBgwYIGRwAIGDAg8ZPLBwYcMGFSpbvnxBc0YPH0p02rSBJABAgH9+/wL2Cy/fu27i0qkbp46dN2rbmjlzFuxXrFanTk2atAiPly6et1ixEgSIjxwzRHRgAAECBggZPLSIIQPIkiVZ3LwBcyjQmjhjmvRAQoRIChE6kDgZMybLkyRAavz4kMEBhgwQHDhQ4ACDAwceIHhw4YLKlvJdvpzhw6cRJTp0srhaACDAv/r279eX9+9fOnHqAKpLN86dt23bmjlzFszWr1atMmWadMkLFy9dvHSxYuX/CAwfOXKAkCDhAQQMEDJ4GDHiBxAgSZ6oWcOmEqA1csZgMdIECZIjOoggiTJGTZYnTozQaDHCgYMJEBxEVfAAAgQHEzJ4eOGCCpUuW758QcPHDyZKdOgk4TUhQIB/b+HGfcvv3z944tSlS+ft3bht1J5Bc5br169arV6lMjXpkh80XaoEkSEDBgwEICQwYBAhAgQOGCZkGBGjBpAkSZyoicPmkSA4cciMQYLESRMkRXo0ARPGzZgnToz8iDFhggMEDxwoWIBggQQFDjxk8GCDCpUtXbp8+YKGTx9KjRrR2eFqAYEA/9CnV4++3r9/+caNEyfOW7px27ZRgwYt169f/wBj9Xr1KlOmPnu4cNmyJUgLGBISEEhggIFFCQ8gZJiQIcaPH0mQjAkUKM2jR4LihBmDhYwTJ0uUIGkChsybLGKeJPmRoaeCAhMKKFCwYAEEBwo8sHDxgsqVLV+iouHjpw8fTJrytEFVIMCUf2DDigUrz9+/f+/EdSPn7Vs6b9+2PXMWLNevWLVqsco0ac8eL1uqBLHRAsIDBgYMEDCQgAGDDg4KOIgxIkaMH0nmDDoEh9MjQYLW3BnjRItpJU6ajJnjpk6eLE+MxBiRYcICBQUcKFBQoICCER5G2KCyhYqXL8jRoPGDSRMqTXTaoDoBwN+/69izX09X79+/fO/Ukf/j5i3dtm/bojXLlevXr1q+VmVadKlMFS5VgrSYAYNBBIAGBBgQkMAAAwILHCiYEONHjCWEHGWy9OhVqEePAg2S46aMFi1KkICJQ8hRozpt2ohJ8mFDhgUTZCpwUDNDhhcvXFzhueXMTzR8MGkiqqkNIUsFLvxj2tRp0273/k39B0/cNGrjtn3bto0atGC/fvXq9SqVqUt7zpzhEsTKkRkSQBigS8AuggUOJnwY8YMLGUquUGWqtKpVp02hKgWK80bLGC1OsLBZE8iSI0KO3rTJYoTGiAkZRmRwUNpBBg9LqKy+4uUMH9h8MGHSREmTpieyHAmY8s/3b+C/4/0jXvz/XDdq37Z9q+aNGjRow37F6sUr1alLl/Z40WJFSY4IESRIMCDAgAEGCU5McPAjixYteVC5cpWp06pNmyJFKvSHDUA1Y8JgwRJm0Jo7niwRskSoTp0sSXb8iOHBwYQMDjy4+PGDyhUqVLygKYnGD6Y+mChRcqSGkxoB9f7RrGnz5k113Khtq7Ztm7dt0JwF+xWrVa9Xp0xdOuOFixUlMESYSJCAQYKsDBg8CGGEDI8xcyjxcuWJUaVOkTZtSlSoECA2Y8CMAQPmzqBDliARcgTpUCA1T54k+TEihgcXP1y8aGzjypYraM6g4aMHE2bMjuq0KZQGwL/QokeTLv2u2zZq/9VWe9sGzVmwX7Fi1WqV6tKeMl6sBAnig0MOERwkIGCAQQSHDi2yaNEyBo+rYqkqMWL0aNOn7JEMGQKkBowaME3UADpkyRIhQ5AgHapTx8mP+DViJHnx4wcVKle2fPFyBuAZNHz49MGkCaGjNpwAPQrwD2JEiRMp1uvmLVo1jd62TYMW7BeuWL1aZbq0Z88ZL0FYymjRAgYHDh9oZviwRMwSMmUWFSvmiVGlR482fVL1KZKhR4YAgYnyVI2aQJYgOToECVKgQHKyLMmS5MqSJEuuXDFj5kqXM2jOoPHzFpMmuZYIgVEDyMKUf3v59vX79984b9SiFd52GJqzYLhivf96lSnTnj1eznSpUiWIDRkyWrDIEONHDSBauGgpU2ZRsWKZGDF6ZCjSJlWrNhl6ZChNEyZRmkSJ8sYRIUKQ1ABiE+cNGS1XrnAxw+WKGeleuHjZ0gUNHz59MGFCZUoTJUJuLKkREO5fevXr2bf/l85btWjzq23zBs0ZtF+xWp2aBHDSnjJauHipIsNGEBkvXsiQYaMKFy169JTJY2cRr2KeOlXaFGnTJlWqOkV6BMgQFBRM1CCJUseSJUd12AQaJGcNGS5czPjko0mTnjNn0Bjt4yepH0ymULlCpYnQG09pAvD7hzWr1q1c/9HbVi1atGpkvVGDJi0YrlaqTmW6dGn/T5e5XbZUuVvlBZUrV8z49XJGzx47qZS58lTpUaRNmz5tehQpVKQ/TFAIARNFjJg5jQjJGXQnjpw6hNyYyWPmjBlMqDBh6sMHjWw/pEphwmTKlStUlu6o4cUEyr/hxIsbP07cW7Vo0apFq+Zt2zRo0IL1anXq1KU9e7x439KlSpUtV6pcuYJJD5/1evj02bOnmDJXp1Z16vRJlapPqjY9AggoTRQkTcIQwTKHECE5d+LEIeSJkBsyZvKcydMHUylTfvr4QYPGTylMqFK5csXKk6U4nlhRSPRP5kyaNW3O/FYtWrRq0apt2wbNmbRgwnq9SnXpUh88Xs6c6dJlixcv/2by5MF0hg8armjO+PFTqlgxX8eO+apFS5UqWqtCVQIUxgmWJljm2MGzaJIiSJUYsZIDxg0ZMnPKaLEziRImU5r8+MFUyhUvV65YcbLkKA4nVg2G/QMdWvRo0qHVUYuWOlq1atuoNYMmTVgvXrxSXbo0ac+eM2jQePHCp48mVKjQ+EFz5gyaM2hKmTK1i1cxZcvKmcvWS3utVoLCYBkzBkuZS5lMZcpUiROnQ2uwjBlDpoycOIsWZcpkyhWqUpp2ASxWzBUnTpAGQYIUpVKDfw4fQowoEeI8atWiVcsYrdo2aNOkGevl69UpU6UuobzkZ88eTKhcudJkBpMfNGfOoP85g8aPKVOlLpUytYuXql7HjtFq1aoSnDVrxoyxY2qqK1a1VkWBowZMGCxOxqyJcwdOIEWWfO0qVkwZL16vWHkaFCcQIUCPpvzLq3cv3758qVWrFq1atWbPqE2bJs2aMWGtWqUyZarUpVKXLplKlYoXL0x99PThwwdNHzSm/ZRKtSvVrkupXvHypezYsVabWlVaNGjSpEupXvnydUgNmzFvyKjBEmbNmjBR0qQR5ImXK2W+eGXKNCmTokWK4sBhJYjJv/Lmz6NPj37btmrRqlVrxiwaNWfQpBk7VqtWq1T+AZoylapYMV6uUBHqM4lSnz5++PDxM9EPplKXSpVKVWr/T6pTvF4dE1ark6pVmQRN8uSpGCtGTQJFATMGSxMsa5xE0RnFECdfnI714rQGz6RFi+DEmRRmkismkv5FlTqValWq6bZVi1at2jNmz6g9gwZNmrVevV61erV2rS9frjINujTpEiVMlPro0dOHr58+mPz46bMHk59SexbhObVqFSNDlQQpypTKUyZIg94QCnMnjpowWJqETjMl0ixWvYRBMuRr0J1JiybFubNIjqJMafj9072bd2/fve9tqzY82jNmz6I9cwZNmjVrwnq94vXKFy9ep7Bjv3RpzyVKfcDr6aNHzx7zffTkybPHzhktVpQoKZKGjSBAUe44AeNkDBYn/wDnhLkzZkyYME6iRPljSJYsW+jKXYsEaM0aRZMy3Vmz5k4cVoTC/RtJsqTJkyi9basWLVqzZzBhQpNm7ZrNY8V8FfPl69WpSpUWLZp0qVQpTJguYerDtM+ePXb22ClTRosWK0qOHMmBhEgRIjmIIMFSBs8ePIvwlFm7Jg2bNJFoyZK17h25YZEAMarEiNGiTI7iDBrE6NGfdf+2/VvMuLHjx47TbatWLdqzZs+YNWsGbZq0Ydaugct2TVkxX60mLVp0KdOiPZMwYbpEG1OfPbj39DFTpgwXLVacKCmSgwSKIUhM3GgypowdL2Xs7LGzZw+eSZ1YAZMFKtw8eeSGff8qVMmQGjiK7niyBCcOm0qRCvn7J++f/fv48+vPL6+af4DRmj17xqxZM2fQgg0zZszaMWXKih0r5soVL1eoUFFC5WqXKZCXJl3qY2cPnj12ypTBoqRIjiFDhKAQQiRHjyJHuOzcU+bSIlNBix2zJuwcPHDossFS9SfNGjVq7txZZClQoCiAKj0C9c/rV7BhxY71Ws1stGbRmjFjdiuXs2DBftHq1ctXMWV5lynj5csVr2LKlvnyVczwLlOXSu3ZY2eMHSVWfDhBMkQIChRDwqwxVcbUHlOYUhXbVawYuGXutEk79y6br3KtYBWCEiUKmDhr1jg6dMhQmkOsErn7V9z/+HHkyZUX/1atWrRn0aLdYnbrVq5gwWJtb7Xq1C5f5trx20cvn7t27tq5Q2fOvbll8Zcho49s1/09SJA0SZNGEEBexZQtK4bs4LJiypaZQxeOHzRJ76y1WtZqUyImTZpEAcQoziFHkA6x+fOoFqh/KleybOny5Up91WZGaxaNGbNbOm/ZEgVLlapTmVKl2sUrW7Zz7fbdO4eu3T966NqhQ2fu6tVlyZAhU1as2KRXvHYVS4WMGDFkyZApK2fO3DlYU6akQwTNVidevHwVaoKkCBIwdwZZgnSokiFDf0J9EvfvMeTIkidTjvytWrVozaIx63zrsy1RojZt6pTp1atT/7xStTL2bl2uUduYjfN27hy6dtfKgVOmbNmyZMmQIVtmfBmyXciIIdulzBx0ZbMSTQkgZUU6KdYKVSpWrBMSJ2CQqAn0JhAkTpwiPYpkCJSkfP/m069v/z5++9W+VYv2DCAzgbdujRol6tOmSI8enZqkKNWrS7yUlbM2jtqBdM9WjJI0RVIkQ654KVO2DOUycLxSpeJVbJkyX8pqhfrzR8WBAQcurECUDtuUWr6UvSpCJEpSNo4GOeIEStanSFNF5fp3FWtWrVu5bmX3rVq0aM2Ylb01alQsWJseCRL0SJEiOJMu8Uq2DJ01euHeTRmAaBQiSYigTIni6Q2RG1EMyf9C9EfIKmXXEk1pcAHKigMDDgw4MKBBLkTZVB0rtmxMjiZgAAFiNIgRJ1CwYH2KFEkWInb/ePf2/Rt48ODpvlWL1oxZcma3btmC9ekRIOmHGMVZY8fOJWTFirVzB03KKCmSRiGSIuVAIVBQDDRYcaHBAQAHLiBCdADAgQMNVgwIAHDAgQtSLny61uvYMmWZijhxEiYQJEiAGHH6FGuWqEKJbI36BzKkyJEkS5rM961atWjMmN1idiuXrV+xNgFiA8gQo0N37Fz6uWsZOHOybDlDtGKKlClSGkga1eDAASkXBgQIAOCAlAEDAAAIcODCAAAHVkyZAuUYr2XLivHCE8b/SZg4gSABChTpE6xYuD4VCiVK3b/BhAsbPow48T9236pVa3brFrNbt3L9EmXoD5s0hhgNurNo0Z5LpZAtW2YOnDFYiFZMQZTrghQpBwIEuHAAQAAAAAIMOBBgAAAAFwZcOHBhSixVtZYpW2ZO2Z4xa5yoGcSI06FHm2DhwiUrUaRfif6ZP48+vfr17M3v+1btW7NRt5o1u3UrmKhIhgQZAvgI0KBBihYdvJRqF7Jly8D5OnYNmCxtDVZIOdDggpQLAzwOOHDhAIABJS8MkHKgQaFWvpS9XLbMVBk8cdTEgcSpUyROoGbhkvWpkKhg6v4dRZpU6VKmTZHSS/dtGzNm/9FujbqVC9enR4YeGWITSNCdQXfw4NlziViyZeaWKVtmThm6KYikNBgw4MIAvn35AggwQHCAKYXgnNqVTPGyZbvs4BmzhhAhTp0ibQIFaxauT4Ui4XL2T/Ro0qVNn0Zdel66bduaMRvF7NYtW7A2PYpUiA0gQHDgxIljZ9KlUqmQLVO2bJk5YuY69cIlaQqAAwcuHDgAIMCAAwAGAAggJY2yYsuS6UqGLFmyYqX2zNFSx1EgTqFAgRIFChYuWKAiAQTW7R/BggYPIkyoEKG8b96iMWPWjNktW7E+bdr0RxAbQILgwJFjB8+lkqmIIVu2zJyuZaXMFTO3TJmqT5KkTP9RAcXAhQaf0vBahmxZMmLJiCEjhgzZrj52yJAhBIkTq1mwZIECJQsUqELApP0LK3Ys2bJmz5rNl47duGjMmN2KawvWpk+GDhliIwjQoDiKFOFZVKrUpV27kCVblmzZsmTIvpAqVWrZrmWX8HghxgsZKV2eielKpksXsdK7MOmZM0cOJEaeZMkSNSsUMFmRZOHC9W83796+fwMPLvydPHbRqD1jxmyULVuiVD1iA2i6oEBxJslZtOdSqlKpUu3ahSxZMmLIzCUjpt7cJWLISOlClgwZMV26kn0hlowYMV26AJbClMfMnDuBIEEKNWsWLFrAcIGSaOtfRYsXMWbUuJH/4z928Oil+xatGTNmo0aJSpTo0R+XguAoynRnEJ49mXalMmWqVClkyYjp0pWMWDJiiwiYSIYsmS4ZHEghQ6YrGTJdxHT5QUWpzxyvdxhVqsRqFi6zw2SBAoZL2j+3b+HGlTuXbt1/6djRo8duG7VmzHKNGiUqUiRAf/4YMlQpU5w7cvDguZSK8i5ifohl1kWMWDJkyxZlwkMsma5kxFAnQ0ZMV2tMZzCdyTOH9h1OlSKFwoXrFy5cn3DhkvaPeHHjx5Eb34fvX3Pnz6FDZ8dOXb176b5FY3Zr1ChbkmAV+vPHkKFKleIsknPHDp5JpnbtKlXKjy77xPDjT4YsmS7//wBJ6SKlSxepL2jQnOGDSVOeh4QGMeq0adMsWriEAZuFS5StfyBDihxJcmS6eP9SqlzJkiU7dunY7cuXbtszZrdujRIl6lOiP4YAPeo0aFAcOXcI4dmDp9SuUrqikpqqSxcxXcSI6dpKqiupL19IffGDSQ+fM3nmzBmkqFKoSJ9gzZoFjFYiWbjU/dvLt6/fv4ADC+bLTt24c+zq2VPn7ZmzW6NsifqU6E8hQ5U6VWKUadEgQnZC27lkalep035Iqf6y5csXUqS+fOnyZQuVLmjQ8OHT54wZM2Xm3GFUaRMoUKKAzZJFCxeuYf+iS59Ovbr169inq0snjtw5dffqsf/z9uzWrVywJEVKlCiSoU2VKkFyFKjOnDlv7Iyxs6dPH4Bo0JAi5YcUqS9dvnT54uXLli5dtmzxgsYLFy5azNixo6jSpk2qIn0CBkuWLGCy/q1k2dLlS5gxZbpUd66bOJzr5tFjN63ZrVy2RMGKlOhTpESPKlWCFOjO0zhlxpQp4+XMGTRZtWb90sVrELBVtlSxUpYLFzNlyuBRVGnTJliiRAmjVQuYrHX/9O7l29fvX8CB+647100bN27i1sGjd67Z41u5YEmShKhQokeMOFViFGdQHDll7Owps4fLlipVglSpsqVKkC1VtsgIEsTGbSBBglixwoXLHDt4JlXqFAn/FqhZwGbVMqbt33Po0aVPp17d+vR168R1w8aNmzhx7uiNm9YsVy5boxKtl/TpUSdGjOAoGgRnkBYsXLiU0VIlCMAgAgVasaLEio+EMhbKCGIliBYuWuYQuqOo0qZIsWYBE4arFrB7/0aSLGnyJMqUKk+2QycuHDZu2Lh1E+cOXjpnuXbmEiXqk6RPmzZVqgSIzSBBcMrM2ZOHC5cqUoNQlXHkiA8lPnzI6PpCRpAgVrSU4ZKHEBxFlSKpwjUL2DBcwLL9q2v3Lt68evfyzWuv3Tpy4bBhmwYNGzZx79hx4+YsVy5bkkZJSvTpU6dOhhgJWjOmzJ45ZbhwqWI6CGog/0FkyDjio0ULGS9syLBhxYoWLmYaEQrEqNMmWLOADRsmrNa5f8qXM2/u/Dn06M7ptUMXThs2bdpyBZs2DZs7dd2cOYOWK9goSZI+bUoU6ZEhQYLC4GlUZo6WK1W2VAlSBWAQIDV8+JDho4UIGzJYvJBRRQsXK332ODpUqdOjULNwHTMG7Jq7fyNJljR5EmVKlSfprUN3Thu2cNps5XLmDFq4c+e0SYMGTdooW6MkSUpUyJAgQYoUTSJUBuoVLlyCVLXRooWMFhw4tODAwoUMG1XIcvFCqc6gQY9CbaIla9i1Y3PJ/bN7F29evXv59tU7D925cNiygZMWDFawX86CXf8jt44cNmjOctmSJOlTokSRBD1SJGjRnTJl5mixUiWIDRkyWnBgwQE2C9ksXLywESQIFzt74sSpZGhVp1rAjGVTVuzYsX/LmTd3/hx6dOnP3Z0Lpy1bNnDShon6ZctWMFzBrJ3rJg0aNmi5RklKVChRIkHzB92ZM4eMliVBbMhgAZAFCwwQIHDgAIEDCxYuXtgAskRLmTKBBK16VCmULGDXyilDxatNuX8kS5o8iTKlypUm+7kjF06bNWvgjEnDhWuWzlm4hlkTR67bNGfOcomSlCjRH0OAFDGSU4fMHC5AbNh44YGFVggQFEDgACEDCxcvbFTRMieOokCBZhmq1Kr/1jFw2VChIkaFgLx/fPv6/Qs4sODBfeu1C6ctmzVj4I4ZwzUrcqhVsGIFGxYuXLdpzpzhgiWpUKFEj+AwGkTGjRsyT4C8YAEbwgIMtCHY5sDCwwsgNoA4iXOoUqdNj0LR6gWsnDJMpHRRESAA3r/p1Ktbv44d37/t3Lt7527PHTlt2awJy3bNmDBas1a5DyXKFq5h2tapC+csmC1RiRJFAviIERxHd9y4WaIEiAwWHlhw4ACBAQIGDBxA4MCCRQ0fWMaMAfSoU6hYrWodUwZOEylSX6goUEBA2T+aNW3exHmT2a1/PX3+BOrTnrtw4LJd83Xs2rFetFbJWrUqFCtY1rF+BZPWjRw5a8BkyUoUqdAjQ4MsDRozxooSGS1acOAgAgMECREwYBABo0WNI06cjGEDKNKnT6piwbqWzRefL1+ouFBAQEABCOCsnUvX799mzp09/5vH7Nu2XLL+nUadWjVqeu3OgbumrJivY7569aoVypMnVqE4ibIV61ewbOHCHQMFSlKiSI8EKToUJ86YMViO1OghAgYMDhwwcAAhYsaMHEeUKMEyhs2fP5FgyZo16xgwVJjQUHGhoIAAAQQ8AGQySlS3c/n+IUyoUGG6KVJugUNnKyAAOw==\"/>"
      ],
      "text/plain": [
       "<IPython.core.display.HTML object>"
      ]
     },
     "execution_count": 5,
     "metadata": {},
     "output_type": "execute_result"
    }
   ],
   "source": [
    "def interpolate_between_vectors():\n",
    "    v1 = tf.random.normal([latent_dim])  # set at the top of nb\n",
    "    v2 = tf.random.normal([latent_dim])\n",
    "    \n",
    "    # Creates a tensor with 25 steps of interpolation b/n v1 and v2\n",
    "    vectors = interpolate_hypersphere(v1, v2, 50)  # TODO: Not 50 steps?\n",
    "    \n",
    "    # Uses ProGAN module to generate images from the latent space.\n",
    "    interpolated_images = progan(vectors)['default']\n",
    "    \n",
    "    return interpolated_images\n",
    "\n",
    "\n",
    "interpolated_images = interpolate_between_vectors()\n",
    "animate(interpolated_images)"
   ]
  },
  {
   "cell_type": "code",
   "execution_count": null,
   "metadata": {},
   "outputs": [],
   "source": []
  }
 ],
 "metadata": {
  "kernelspec": {
   "display_name": "Python 3",
   "language": "python",
   "name": "python3"
  },
  "language_info": {
   "codemirror_mode": {
    "name": "ipython",
    "version": 3
   },
   "file_extension": ".py",
   "mimetype": "text/x-python",
   "name": "python",
   "nbconvert_exporter": "python",
   "pygments_lexer": "ipython3",
   "version": "3.7.7"
  }
 },
 "nbformat": 4,
 "nbformat_minor": 4
}
