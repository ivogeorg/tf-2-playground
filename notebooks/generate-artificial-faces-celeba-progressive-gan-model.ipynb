{
 "cells": [
  {
   "cell_type": "markdown",
   "metadata": {},
   "source": [
    "# Generate Artificial Faces with CelebA Progressive GAN Model\n",
    "\n",
    "**Acknowledgements:**\n",
    "1. [Tutorial](https://www.tensorflow.org/hub/tutorials/tf_hub_generative_image_module) on Colab.  \n",
    "2. [Notebook](https://github.com/tensorflow/hub/blob/master/examples/colab/tf_hub_generative_image_module.ipynb) on Github.  \n",
    "\n",
    "**References:**\n",
    "1. TF resources:\n",
    "   1. [Low-level concepts](https://www.tensorflow.org/guide/eager)  (TODO: Follow this guide)  \n",
    "   2. [tf.stack](https://www.tensorflow.org/api_docs/python/tf/stack)  \n",
    "   3. [Progan 128](https://tfhub.dev/google/progan-128/1) pretrained model module on TF-Hub.  \n",
    "2. GANs:\n",
    "   1. [GAN article](https://en.wikipedia.org/wiki/Generative_adversarial_network) on Wikipedia.  \n",
    "   2. Paper on [Noise-contrastive estimation](http://proceedings.mlr.press/v9/gutmann10a/gutmann10a.pdf) which inspired GANs.  \n",
    "   3. Paper on the [3D-GAN](https://papers.nips.cc/paper/6096-learning-a-probabilistic-latent-space-of-object-shapes-via-3d-generative-adversarial-modeling.pdf) which learns a probabilisitic latent space of object shapes from images.  \n",
    "   4. Paper on [Progressive growing of GANs for improved quality, stability, and variation](https://arxiv.org/abs/1710.10196)  \n",
    "3. Interpolation:\n",
    "   1. [Linear Interpolation article](https://en.wikipedia.org/wiki/Linear_interpolation) on Wikipedia.  \n",
    "   2. Interpolation between [2 vectors](https://gamedev.stackexchange.com/questions/18615/how-do-i-linearly-interpolate-between-two-vectors)  \n",
    "   3. [Hypersphere article](https://en.wikipedia.org/wiki/Hypersphere) on Wikipedia.  \n",
    "\n",
    "\n",
    "**Table of contents:**\n",
    "1. [Overview](#Overview)  \n",
    "2. [Setup](#Setup)  \n",
    "3. "
   ]
  },
  {
   "cell_type": "markdown",
   "metadata": {},
   "source": [
    "## Overview\n",
    "\n",
    "A TF-Hub module based on a generative adversarial network (GAN) is used, which maps N-dimentional vectors (the *latent space*) to RGB images.\n",
    "\n",
    "In particular, two examples are shown:\n",
    "* **Mapping** from latent space to images  \n",
    "* Given a target image, **using gradient descent to find a latent vector** that generates an image similar to the target image  "
   ]
  },
  {
   "cell_type": "markdown",
   "metadata": {},
   "source": [
    "## Setup"
   ]
  },
  {
   "cell_type": "code",
   "execution_count": 1,
   "metadata": {},
   "outputs": [
    {
     "name": "stderr",
     "output_type": "stream",
     "text": [
      "/home/ivogeorg/anaconda3/envs/tf-22/lib/python3.7/importlib/_bootstrap.py:219: RuntimeWarning: numpy.ufunc size changed, may indicate binary incompatibility. Expected 192 from C header, got 216 from PyObject\n",
      "  return f(*args, **kwds)\n",
      "/home/ivogeorg/anaconda3/envs/tf-22/lib/python3.7/importlib/_bootstrap.py:219: RuntimeWarning: numpy.ufunc size changed, may indicate binary incompatibility. Expected 192 from C header, got 216 from PyObject\n",
      "  return f(*args, **kwds)\n",
      "/home/ivogeorg/anaconda3/envs/tf-22/lib/python3.7/importlib/_bootstrap.py:219: RuntimeWarning: numpy.ufunc size changed, may indicate binary incompatibility. Expected 192 from C header, got 216 from PyObject\n",
      "  return f(*args, **kwds)\n",
      "/home/ivogeorg/anaconda3/envs/tf-22/lib/python3.7/importlib/_bootstrap.py:219: RuntimeWarning: numpy.ufunc size changed, may indicate binary incompatibility. Expected 192 from C header, got 216 from PyObject\n",
      "  return f(*args, **kwds)\n"
     ]
    }
   ],
   "source": [
    "from absl import logging\n",
    "\n",
    "import imageio\n",
    "import PIL.Image\n",
    "import matplotlib.pyplot as plt\n",
    "import numpy as np\n",
    "\n",
    "import tensorflow as tf\n",
    "tf.random.set_seed(0)  # usu. for reproducibility\n",
    "\n",
    "import tensorflow_hub as hub\n",
    "from tensorflow_docs.vis import embed\n",
    "\n",
    "import time\n",
    "\n",
    "try:\n",
    "    from google.colab import files\n",
    "except ImportError:\n",
    "    pass\n",
    "\n",
    "from IPython import display\n",
    "from skimage import transform"
   ]
  },
  {
   "cell_type": "code",
   "execution_count": 2,
   "metadata": {},
   "outputs": [],
   "source": [
    "# This value could be retrieved from module.get_input_shapes() if \n",
    "# the module to be used is not know ahead of time\n",
    "latent_dim = 512\n",
    "\n",
    "# Interpolates between two vectors which are non-zero and don't both\n",
    "# lie on a line through the origin. First, normalizes v2 to have the\n",
    "# same norm as v1. Then, interpolates between the two vectors on the\n",
    "# hypersphere.\n",
    "def interpolate_hypersphere(v1, v2, num_steps):\n",
    "    v1_norm = tf.norm(v1)\n",
    "    v2_norm = tf.norm(v2)\n",
    "    v2_normalized = v2 * (v1_norm / v2_norm)\n",
    "    \n",
    "    vectors = []\n",
    "    for step in range(num_steps):\n",
    "        interpolated = v1 + (v2_normalized - v1) * step / (num_steps - 1)\n",
    "        interpolated_norm = tf.norm(interpolated)\n",
    "        interpolated_normalized = interpolated * (v1_norm / interpolated_norm)\n",
    "        vectors.append(interpolated_normalized)\n",
    "        \n",
    "        return tf.stack(vectors)\n",
    "    \n",
    "    \n",
    "# Simple way to display an image\n",
    "def display_image(image):\n",
    "    image = tf.constant(image)\n",
    "    image = tf.image.convert_image_dtype(image, tf.uint8)\n",
    "    return PIL.Image.fromarray(image.numpy())\n",
    "\n",
    "\n",
    "# Given a set of images, show an animation\n",
    "def animate(images):\n",
    "    images = np.array(images)\n",
    "    converted_images = np.clip(images * 255, 0, 255).astype(np.uint8)\n",
    "    imageio.mimsave('./animation.gif', converted_images)\n",
    "\n",
    "    return embed.embed_file('./animation.gif')   # TODO: Grok this\n",
    "\n",
    "logging.set_verbosity(logging.ERROR)"
   ]
  },
  {
   "cell_type": "code",
   "execution_count": null,
   "metadata": {},
   "outputs": [],
   "source": []
  }
 ],
 "metadata": {
  "kernelspec": {
   "display_name": "Python 3",
   "language": "python",
   "name": "python3"
  },
  "language_info": {
   "codemirror_mode": {
    "name": "ipython",
    "version": 3
   },
   "file_extension": ".py",
   "mimetype": "text/x-python",
   "name": "python",
   "nbconvert_exporter": "python",
   "pygments_lexer": "ipython3",
   "version": "3.7.7"
  }
 },
 "nbformat": 4,
 "nbformat_minor": 4
}
