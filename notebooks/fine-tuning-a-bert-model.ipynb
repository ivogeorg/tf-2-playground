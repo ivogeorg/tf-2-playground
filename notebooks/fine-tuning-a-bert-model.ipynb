{
 "cells": [
  {
   "cell_type": "markdown",
   "metadata": {},
   "source": [
    "# Fine-tuning a BERT model\n",
    "\n",
    "**Acknowledgements:**\n",
    "1. TensorFlow [Colab tutorial](https://www.tensorflow.org/official_models/fine_tuning_bert).  \n",
    "2. [Github notebook](https://github.com/tensorflow/models/blob/master/official/colab/fine_tuning_bert.ipynb).  \n",
    "\n",
    "**References:**\n",
    "1.  \n",
    "2.  \n",
    "\n",
    "**Table of contents:**\n",
    "1.  \n",
    "2.   "
   ]
  },
  {
   "cell_type": "code",
   "execution_count": null,
   "metadata": {},
   "outputs": [],
   "source": []
  }
 ],
 "metadata": {
  "kernelspec": {
   "display_name": "Python 3",
   "language": "python",
   "name": "python3"
  },
  "language_info": {
   "codemirror_mode": {
    "name": "ipython",
    "version": 3
   },
   "file_extension": ".py",
   "mimetype": "text/x-python",
   "name": "python",
   "nbconvert_exporter": "python",
   "pygments_lexer": "ipython3",
   "version": "3.7.7"
  }
 },
 "nbformat": 4,
 "nbformat_minor": 4
}
